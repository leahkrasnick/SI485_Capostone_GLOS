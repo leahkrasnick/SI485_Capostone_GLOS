{
 "cells": [
  {
   "cell_type": "markdown",
   "metadata": {},
   "source": [
    "## Kepler.gl HABs Tracker Visualization"
   ]
  },
  {
   "cell_type": "markdown",
   "metadata": {},
   "source": [
    "#### Packages:"
   ]
  },
  {
   "cell_type": "code",
   "execution_count": 2,
   "metadata": {},
   "outputs": [],
   "source": [
    "from keplergl import KeplerGl"
   ]
  },
  {
   "cell_type": "code",
   "execution_count": 3,
   "metadata": {},
   "outputs": [],
   "source": [
    "import folium\n",
    "import xarray as xr\n",
    "import numpy as np\n",
    "import pandas as pd\n",
    "from folium import plugins\n",
    "from netCDF4 import Dataset"
   ]
  },
  {
   "cell_type": "code",
   "execution_count": 4,
   "metadata": {},
   "outputs": [],
   "source": [
    "import geopandas as gpd\n",
    "from shapely.geometry import Point"
   ]
  },
  {
   "cell_type": "markdown",
   "metadata": {},
   "source": [
    "# MAP 1:  One timestamp"
   ]
  },
  {
   "cell_type": "markdown",
   "metadata": {},
   "source": [
    "Load in HABs data"
   ]
  },
  {
   "cell_type": "code",
   "execution_count": 16,
   "metadata": {},
   "outputs": [],
   "source": [
    "rootgrp_real = Dataset(\"HABS.nc\", mode='r')\n"
   ]
  },
  {
   "cell_type": "markdown",
   "metadata": {},
   "source": [
    "Extracting longitude and latitude"
   ]
  },
  {
   "cell_type": "code",
   "execution_count": 17,
   "metadata": {},
   "outputs": [],
   "source": [
    "lat = rootgrp_real.variables['lat'][:]\n",
    "lon = rootgrp_real.variables['lon'][:]"
   ]
  },
  {
   "cell_type": "code",
   "execution_count": 18,
   "metadata": {},
   "outputs": [],
   "source": [
    "lon = np.where(lon > 180., lon-360., lon)"
   ]
  },
  {
   "cell_type": "markdown",
   "metadata": {},
   "source": [
    "Extracting concentration variables for first timestamp"
   ]
  },
  {
   "cell_type": "code",
   "execution_count": 19,
   "metadata": {},
   "outputs": [],
   "source": [
    "concslice = rootgrp_real.variables['conc'][0][0][:]"
   ]
  },
  {
   "cell_type": "markdown",
   "metadata": {},
   "source": [
    "Creating pandas dataframe with longitude, latitude, and concentration variables extracted from habs file"
   ]
  },
  {
   "cell_type": "code",
   "execution_count": 8,
   "metadata": {},
   "outputs": [],
   "source": [
    "clean_habs = pd.DataFrame()\n",
    "clean_habs['Latitude']=lat\n",
    "clean_habs['Longitude']=lon\n",
    "clean_habs['Concentration']=concslice"
   ]
  },
  {
   "cell_type": "markdown",
   "metadata": {},
   "source": [
    "#### Create Geopandas dataframe"
   ]
  },
  {
   "cell_type": "code",
   "execution_count": 9,
   "metadata": {},
   "outputs": [],
   "source": [
    "geom3 = [Point(x,y) for x, y in zip(clean_habs['Longitude'], clean_habs['Latitude'])]"
   ]
  },
  {
   "cell_type": "code",
   "execution_count": 10,
   "metadata": {},
   "outputs": [],
   "source": [
    "gdf = gpd.GeoDataFrame(clean_habs, geometry=geom3)"
   ]
  },
  {
   "cell_type": "markdown",
   "metadata": {},
   "source": [
    "#### Configuration of map - can be found by doing map1.config"
   ]
  },
  {
   "cell_type": "code",
   "execution_count": 13,
   "metadata": {
    "scrolled": true
   },
   "outputs": [
    {
     "name": "stdout",
     "output_type": "stream",
     "text": [
      "User Guide: https://github.com/keplergl/kepler.gl/blob/master/docs/keplergl-jupyter/user-guide.md\n"
     ]
    },
    {
     "data": {
      "application/vnd.jupyter.widget-view+json": {
       "model_id": "52b2d975f79b4efdb98141e6a40168cc",
       "version_major": 2,
       "version_minor": 0
      },
      "text/plain": [
       "KeplerGl(config={'version': 'v1', 'config': {'visState': {'filters': [], 'layers': [{'id': 'wkmes7c', 'type': …"
      ]
     },
     "metadata": {},
     "output_type": "display_data"
    }
   ],
   "source": [
    "\n",
    "config = {'version': 'v1',\n",
    " 'config': {'visState': {'filters': [],\n",
    "   'layers': [{'id': 'wkmes7c',\n",
    "     'type': 'point',\n",
    "     'config': {'dataId': 'data_1',\n",
    "      'label': 'Point',\n",
    "      'color': [255, 153, 31],\n",
    "      'columns': {'lat': 'Latitude', 'lng': 'Longitude', 'altitude': None},\n",
    "      'isVisible': False,\n",
    "      'visConfig': {'radius': 10,\n",
    "       'fixedRadius': False,\n",
    "       'opacity': 0.8,\n",
    "       'outline': False,\n",
    "       'thickness': 2,\n",
    "       'strokeColor': None,\n",
    "       'colorRange': {'name': 'Global Warming',\n",
    "        'type': 'sequential',\n",
    "        'category': 'Uber',\n",
    "        'colors': ['#5A1846',\n",
    "         '#900C3F',\n",
    "         '#C70039',\n",
    "         '#E3611C',\n",
    "         '#F1920E',\n",
    "         '#FFC300']},\n",
    "       'strokeColorRange': {'name': 'Global Warming',\n",
    "        'type': 'sequential',\n",
    "        'category': 'Uber',\n",
    "        'colors': ['#5A1846',\n",
    "         '#900C3F',\n",
    "         '#C70039',\n",
    "         '#E3611C',\n",
    "         '#F1920E',\n",
    "         '#FFC300']},\n",
    "       'radiusRange': [0, 50],\n",
    "       'filled': True},\n",
    "      'textLabel': [{'field': None,\n",
    "        'color': [255, 255, 255],\n",
    "        'size': 18,\n",
    "        'offset': [0, 0],\n",
    "        'anchor': 'start',\n",
    "        'alignment': 'center'}]},\n",
    "     'visualChannels': {'colorField': None,\n",
    "      'colorScale': 'quantile',\n",
    "      'strokeColorField': None,\n",
    "      'strokeColorScale': 'quantile',\n",
    "      'sizeField': None,\n",
    "      'sizeScale': 'linear'}},\n",
    "    {'id': '1wkji89',\n",
    "     'type': 'hexagon',\n",
    "     'config': {'dataId': 'data_1',\n",
    "      'label': 'data_1',\n",
    "      'color': [241, 92, 23],\n",
    "      'columns': {'lat': 'Latitude', 'lng': 'Longitude'},\n",
    "      'isVisible': True,\n",
    "      'visConfig': {'opacity': 0.8,\n",
    "       'worldUnitSize': 2.2,\n",
    "       'resolution': 8,\n",
    "       'colorRange': {'name': 'Custom Palette',\n",
    "        'type': 'custom',\n",
    "        'category': 'Custom',\n",
    "        'colors': ['#010CC1',\n",
    "         '#1472FA',\n",
    "         '#06961E',\n",
    "         '#7CFC03',\n",
    "         '#F4FF11',\n",
    "         '#FF8C11',\n",
    "         '#d73027',\n",
    "         '#a50026']},\n",
    "       'coverage': 1,\n",
    "       'sizeRange': [0, 500],\n",
    "       'percentile': [0, 100],\n",
    "       'elevationPercentile': [0, 100],\n",
    "       'elevationScale': 5,\n",
    "       'colorAggregation': 'maximum',\n",
    "       'sizeAggregation': 'average',\n",
    "       'enable3d': True},\n",
    "      'textLabel': [{'field': None,\n",
    "        'color': [255, 255, 255],\n",
    "        'size': 18,\n",
    "        'offset': [0, 0],\n",
    "        'anchor': 'start',\n",
    "        'alignment': 'center'}]},\n",
    "     'visualChannels': {'colorField': {'name': 'Concentration',\n",
    "       'type': 'real'},\n",
    "      'colorScale': 'quantize',\n",
    "      'sizeField': {'name': 'Concentration', 'type': 'real'},\n",
    "      'sizeScale': 'linear'}}],\n",
    "   'interactionConfig': {'tooltip': {'fieldsToShow': {'data_1': ['Latitude',\n",
    "       'Longitude',\n",
    "       'Concentration']},\n",
    "     'enabled': True},\n",
    "    'brush': {'size': 0.5, 'enabled': False}},\n",
    "   'layerBlending': 'normal',\n",
    "   'splitMaps': [],\n",
    "   'animationConfig': {'currentTime': None, 'speed': 1}},\n",
    "  'mapState': {'bearing': 0,\n",
    "   'dragRotate': False,\n",
    "   'latitude': 42.26923937532302,\n",
    "   'longitude': -80.94647849215431,\n",
    "   'pitch': 52.27742153838995,\n",
    "   'zoom': 6.706585927342862,\n",
    "   'isSplit': False},\n",
    "  'mapStyle': {'styleType': 'dark',\n",
    "   'topLayerGroups': {},\n",
    "   'visibleLayerGroups': {'label': True,\n",
    "    'road': True,\n",
    "    'border': False,\n",
    "    'building': True,\n",
    "    'water': True,\n",
    "    'land': True,\n",
    "    '3d building': False},\n",
    "   'threeDBuildingColor': [9.665468314072013,\n",
    "    17.18305478057247,\n",
    "    31.1442867897876],\n",
    "   'mapStyles': {}}}}\n",
    "map_1 = KeplerGl(data= {'data_1' : gdf}, config=config)\n",
    "map_1"
   ]
  },
  {
   "cell_type": "markdown",
   "metadata": {},
   "source": [
    "Save map as html"
   ]
  },
  {
   "cell_type": "code",
   "execution_count": 14,
   "metadata": {},
   "outputs": [
    {
     "name": "stdout",
     "output_type": "stream",
     "text": [
      "Map saved to keplergl_map.html!\n"
     ]
    }
   ],
   "source": [
    "map_1.save_to_html(file_name='keplergl_map.html')"
   ]
  },
  {
   "cell_type": "markdown",
   "metadata": {},
   "source": [
    "### Map Configuration"
   ]
  },
  {
   "cell_type": "markdown",
   "metadata": {},
   "source": [
    "In order to find the right configuration for the map, you must open a kepler map first with basic configuration (without \"config = config\") for example you would run: "
   ]
  },
  {
   "cell_type": "markdown",
   "metadata": {},
   "source": [
    "map_2 = KeplerGL(data = gdf)\n",
    "<br> map_2 "
   ]
  },
  {
   "cell_type": "markdown",
   "metadata": {},
   "source": [
    "After you run this command it will open up a keplergl visualization window where you can upload your data and configure your map the way you want within the web app. After you have finished setting up the map, you run another command:"
   ]
  },
  {
   "cell_type": "markdown",
   "metadata": {},
   "source": [
    "map_2.config"
   ]
  },
  {
   "cell_type": "markdown",
   "metadata": {},
   "source": [
    "This command will print out the configuration of your map that you have created so that you can save this version of your map. To recreate this map, you can copy and paste the \"config\" dictionary from the map2.config command and set this equal to a 'config' (or any name) variable. Next, run your kepler open map command, but now with \"config=config\" in the code. For example from the first map: map_1 = KeplerGl(data= {'data_1' : gdf}, config=config)\n"
   ]
  },
  {
   "cell_type": "markdown",
   "metadata": {},
   "source": [
    "# MAP 2: Changing with timeline"
   ]
  },
  {
   "cell_type": "code",
   "execution_count": 21,
   "metadata": {},
   "outputs": [],
   "source": [
    "netcdf_data = Dataset(\"HABS.nc\", mode='r')"
   ]
  },
  {
   "cell_type": "markdown",
   "metadata": {},
   "source": [
    "#### Convert timesamp"
   ]
  },
  {
   "cell_type": "code",
   "execution_count": 22,
   "metadata": {},
   "outputs": [],
   "source": [
    "#Convert timestamp into a suitable format \n",
    "listed_habs = np.ascontiguousarray(netcdf_data.variables['timestamp'][:,:23])\n",
    "\n",
    "s23 = listed_habs.view('S23').ravel() # squash the char array into strings\n",
    "\n",
    "dth = np.array([pd.Timestamp(t.decode('UTF-8')).round('60min').to_pydatetime().replace(tzinfo=None) for t in s23])"
   ]
  },
  {
   "cell_type": "markdown",
   "metadata": {},
   "source": [
    "Reformatting timestamp to date - time: \"2019-10-14 23:00:00\""
   ]
  },
  {
   "cell_type": "code",
   "execution_count": 23,
   "metadata": {},
   "outputs": [],
   "source": [
    "time_stamps = []\n",
    "for x in dth:\n",
    "    time_stamps.append(x.isoformat().replace('T', \" \"))"
   ]
  },
  {
   "cell_type": "markdown",
   "metadata": {},
   "source": [
    "reopening HABs data in xarray to filter data"
   ]
  },
  {
   "cell_type": "code",
   "execution_count": 5,
   "metadata": {},
   "outputs": [],
   "source": [
    "DS = xr.open_dataset('HABS.nc')"
   ]
  },
  {
   "cell_type": "markdown",
   "metadata": {},
   "source": [
    "#### Create dataframe with time values - these commands take some time"
   ]
  },
  {
   "cell_type": "code",
   "execution_count": 7,
   "metadata": {},
   "outputs": [],
   "source": [
    "DS1 = DS.to_dataframe()"
   ]
  },
  {
   "cell_type": "markdown",
   "metadata": {},
   "source": [
    "Filter to first nchar dimension"
   ]
  },
  {
   "cell_type": "code",
   "execution_count": 8,
   "metadata": {},
   "outputs": [],
   "source": [
    "DS2 = DS1[DS1.index.get_level_values('nchar') == 1]"
   ]
  },
  {
   "cell_type": "markdown",
   "metadata": {},
   "source": [
    "Filter to first zlay layer"
   ]
  },
  {
   "cell_type": "code",
   "execution_count": 10,
   "metadata": {},
   "outputs": [],
   "source": [
    "DS3 = DS2[DS2.index.get_level_values('zlay') == 1]"
   ]
  },
  {
   "cell_type": "code",
   "execution_count": 11,
   "metadata": {},
   "outputs": [],
   "source": [
    "DS3 = DS3.reset_index()"
   ]
  },
  {
   "cell_type": "markdown",
   "metadata": {},
   "source": [
    "Drop node, nchar, zlay and timestamp columns so that the dataframe columns are just time, lat, lon, and concentration"
   ]
  },
  {
   "cell_type": "code",
   "execution_count": 12,
   "metadata": {},
   "outputs": [],
   "source": [
    "DS3 = DS3.drop(columns=['node', 'nchar','zlay', 'timestamp'])"
   ]
  },
  {
   "cell_type": "markdown",
   "metadata": {},
   "source": [
    "Adding reformatted timestamp back into dataframe by taking the spot of \"Time\" column"
   ]
  },
  {
   "cell_type": "code",
   "execution_count": 30,
   "metadata": {},
   "outputs": [],
   "source": [
    "for x in range(97):\n",
    "    DS3.loc[DS3.time == x+1, 'time'] = time_stamps[x]"
   ]
  },
  {
   "cell_type": "markdown",
   "metadata": {},
   "source": [
    "#### Transform into Geopandas dataframe"
   ]
  },
  {
   "cell_type": "code",
   "execution_count": 31,
   "metadata": {},
   "outputs": [],
   "source": [
    "geom1 = [Point(x,y) for x, y in zip(DS3['lon'], DS3['lat'])]"
   ]
  },
  {
   "cell_type": "code",
   "execution_count": 32,
   "metadata": {},
   "outputs": [],
   "source": [
    "gdf1 = gpd.GeoDataFrame(DS3, geometry=geom1)"
   ]
  },
  {
   "cell_type": "code",
   "execution_count": 33,
   "metadata": {},
   "outputs": [
    {
     "data": {
      "text/html": [
       "<div>\n",
       "<style scoped>\n",
       "    .dataframe tbody tr th:only-of-type {\n",
       "        vertical-align: middle;\n",
       "    }\n",
       "\n",
       "    .dataframe tbody tr th {\n",
       "        vertical-align: top;\n",
       "    }\n",
       "\n",
       "    .dataframe thead th {\n",
       "        text-align: right;\n",
       "    }\n",
       "</style>\n",
       "<table border=\"1\" class=\"dataframe\">\n",
       "  <thead>\n",
       "    <tr style=\"text-align: right;\">\n",
       "      <th></th>\n",
       "      <th>time</th>\n",
       "      <th>lon</th>\n",
       "      <th>lat</th>\n",
       "      <th>conc</th>\n",
       "      <th>geometry</th>\n",
       "    </tr>\n",
       "  </thead>\n",
       "  <tbody>\n",
       "    <tr>\n",
       "      <th>0</th>\n",
       "      <td>2019-10-14 23:00:00</td>\n",
       "      <td>276.814148</td>\n",
       "      <td>42.091331</td>\n",
       "      <td>0.000000</td>\n",
       "      <td>POINT (276.814 42.091)</td>\n",
       "    </tr>\n",
       "    <tr>\n",
       "      <th>1</th>\n",
       "      <td>2019-10-15 00:00:00</td>\n",
       "      <td>276.814148</td>\n",
       "      <td>42.091331</td>\n",
       "      <td>0.000000</td>\n",
       "      <td>POINT (276.814 42.091)</td>\n",
       "    </tr>\n",
       "    <tr>\n",
       "      <th>2</th>\n",
       "      <td>2019-10-15 01:00:00</td>\n",
       "      <td>276.814148</td>\n",
       "      <td>42.091331</td>\n",
       "      <td>0.757800</td>\n",
       "      <td>POINT (276.814 42.091)</td>\n",
       "    </tr>\n",
       "    <tr>\n",
       "      <th>3</th>\n",
       "      <td>2019-10-15 02:00:00</td>\n",
       "      <td>276.814148</td>\n",
       "      <td>42.091331</td>\n",
       "      <td>3.687910</td>\n",
       "      <td>POINT (276.814 42.091)</td>\n",
       "    </tr>\n",
       "    <tr>\n",
       "      <th>4</th>\n",
       "      <td>2019-10-15 03:00:00</td>\n",
       "      <td>276.814148</td>\n",
       "      <td>42.091331</td>\n",
       "      <td>1.102551</td>\n",
       "      <td>POINT (276.814 42.091)</td>\n",
       "    </tr>\n",
       "    <tr>\n",
       "      <th>...</th>\n",
       "      <td>...</td>\n",
       "      <td>...</td>\n",
       "      <td>...</td>\n",
       "      <td>...</td>\n",
       "      <td>...</td>\n",
       "    </tr>\n",
       "    <tr>\n",
       "      <th>592277</th>\n",
       "      <td>2019-10-18 19:00:00</td>\n",
       "      <td>281.090302</td>\n",
       "      <td>42.905499</td>\n",
       "      <td>13.670499</td>\n",
       "      <td>POINT (281.090 42.905)</td>\n",
       "    </tr>\n",
       "    <tr>\n",
       "      <th>592278</th>\n",
       "      <td>2019-10-18 20:00:00</td>\n",
       "      <td>281.090302</td>\n",
       "      <td>42.905499</td>\n",
       "      <td>13.670499</td>\n",
       "      <td>POINT (281.090 42.905)</td>\n",
       "    </tr>\n",
       "    <tr>\n",
       "      <th>592279</th>\n",
       "      <td>2019-10-18 21:00:00</td>\n",
       "      <td>281.090302</td>\n",
       "      <td>42.905499</td>\n",
       "      <td>13.670499</td>\n",
       "      <td>POINT (281.090 42.905)</td>\n",
       "    </tr>\n",
       "    <tr>\n",
       "      <th>592280</th>\n",
       "      <td>2019-10-18 22:00:00</td>\n",
       "      <td>281.090302</td>\n",
       "      <td>42.905499</td>\n",
       "      <td>13.670499</td>\n",
       "      <td>POINT (281.090 42.905)</td>\n",
       "    </tr>\n",
       "    <tr>\n",
       "      <th>592281</th>\n",
       "      <td>2019-10-18 23:00:00</td>\n",
       "      <td>281.090302</td>\n",
       "      <td>42.905499</td>\n",
       "      <td>13.670499</td>\n",
       "      <td>POINT (281.090 42.905)</td>\n",
       "    </tr>\n",
       "  </tbody>\n",
       "</table>\n",
       "<p>592282 rows × 5 columns</p>\n",
       "</div>"
      ],
      "text/plain": [
       "                       time         lon        lat       conc  \\\n",
       "0       2019-10-14 23:00:00  276.814148  42.091331   0.000000   \n",
       "1       2019-10-15 00:00:00  276.814148  42.091331   0.000000   \n",
       "2       2019-10-15 01:00:00  276.814148  42.091331   0.757800   \n",
       "3       2019-10-15 02:00:00  276.814148  42.091331   3.687910   \n",
       "4       2019-10-15 03:00:00  276.814148  42.091331   1.102551   \n",
       "...                     ...         ...        ...        ...   \n",
       "592277  2019-10-18 19:00:00  281.090302  42.905499  13.670499   \n",
       "592278  2019-10-18 20:00:00  281.090302  42.905499  13.670499   \n",
       "592279  2019-10-18 21:00:00  281.090302  42.905499  13.670499   \n",
       "592280  2019-10-18 22:00:00  281.090302  42.905499  13.670499   \n",
       "592281  2019-10-18 23:00:00  281.090302  42.905499  13.670499   \n",
       "\n",
       "                      geometry  \n",
       "0       POINT (276.814 42.091)  \n",
       "1       POINT (276.814 42.091)  \n",
       "2       POINT (276.814 42.091)  \n",
       "3       POINT (276.814 42.091)  \n",
       "4       POINT (276.814 42.091)  \n",
       "...                        ...  \n",
       "592277  POINT (281.090 42.905)  \n",
       "592278  POINT (281.090 42.905)  \n",
       "592279  POINT (281.090 42.905)  \n",
       "592280  POINT (281.090 42.905)  \n",
       "592281  POINT (281.090 42.905)  \n",
       "\n",
       "[592282 rows x 5 columns]"
      ]
     },
     "execution_count": 33,
     "metadata": {},
     "output_type": "execute_result"
    }
   ],
   "source": [
    "gdf1"
   ]
  },
  {
   "cell_type": "markdown",
   "metadata": {},
   "source": [
    "### Create Map with time"
   ]
  },
  {
   "cell_type": "code",
   "execution_count": 35,
   "metadata": {
    "scrolled": true
   },
   "outputs": [
    {
     "name": "stdout",
     "output_type": "stream",
     "text": [
      "User Guide: https://github.com/keplergl/kepler.gl/blob/master/docs/keplergl-jupyter/user-guide.md\n"
     ]
    },
    {
     "data": {
      "application/vnd.jupyter.widget-view+json": {
       "model_id": "6834477fd6174695a7bd24c8bd2f0dd0",
       "version_major": 2,
       "version_minor": 0
      },
      "text/plain": [
       "KeplerGl(config={'version': 'v1', 'config': {'visState': {'filters': [{'dataId': 'data_time', 'id': 'vioe3lfdt…"
      ]
     },
     "metadata": {},
     "output_type": "display_data"
    }
   ],
   "source": [
    "config2 = {'version': 'v1',\n",
    " 'config': {'visState': {'filters': [{'dataId': 'data_time',\n",
    "     'id': 'vioe3lfdt',\n",
    "     'name': 'time',\n",
    "     'type': 'timeRange',\n",
    "     'value': [1571126140800, 1571134676800],\n",
    "     'enlarged': True,\n",
    "     'plotType': 'histogram',\n",
    "     'yAxis': None}],\n",
    "   'layers': [{'id': 'vcse9yf',\n",
    "     'type': 'hexagon',\n",
    "     'config': {'dataId': 'data_time',\n",
    "      'label': 'data_time',\n",
    "      'color': [241, 92, 23],\n",
    "      'columns': {'lat': 'lat', 'lng': 'lon'},\n",
    "      'isVisible': True,\n",
    "      'visConfig': {'opacity': 0.8,\n",
    "       'worldUnitSize': 4,\n",
    "       'resolution': 8,\n",
    "       'colorRange': {'name': 'Custom Palette',\n",
    "        'type': 'custom',\n",
    "        'category': 'Custom',\n",
    "        'colors': ['#010CC1',\n",
    "         '#1472FA',\n",
    "         '#06961E',\n",
    "         '#7CFC03',\n",
    "         '#F4FF11',\n",
    "         '#FF8C11',\n",
    "         '#d73027',\n",
    "         '#a50026']},\n",
    "       'coverage': 1,\n",
    "       'sizeRange': [0, 435.35],\n",
    "       'percentile': [0, 100],\n",
    "       'elevationPercentile': [0, 100],\n",
    "       'elevationScale': 11,\n",
    "       'colorAggregation': 'maximum',\n",
    "       'sizeAggregation': 'average',\n",
    "       'enable3d': True},\n",
    "      'textLabel': [{'field': None,\n",
    "        'color': [255, 255, 255],\n",
    "        'size': 18,\n",
    "        'offset': [0, 0],\n",
    "        'anchor': 'start',\n",
    "        'alignment': 'center'}]},\n",
    "     'visualChannels': {'colorField': {'name': 'conc', 'type': 'real'},\n",
    "      'colorScale': 'quantize',\n",
    "      'sizeField': {'name': 'conc', 'type': 'real'},\n",
    "      'sizeScale': 'linear'}}],\n",
    "   'interactionConfig': {'tooltip': {'fieldsToShow': {'data_time': ['time',\n",
    "       'conc']},\n",
    "     'enabled': True},\n",
    "    'brush': {'size': 0.5, 'enabled': False}},\n",
    "   'layerBlending': 'additive',\n",
    "   'splitMaps': [],\n",
    "   'animationConfig': {'currentTime': None, 'speed': 6}},\n",
    "  'mapState': {'bearing': -1.5045871559633044,\n",
    "   'dragRotate': True,\n",
    "   'latitude': 41.52332726652787,\n",
    "   'longitude': -81.04555971041239,\n",
    "   'pitch': 50.593124253418466,\n",
    "   'zoom': 6.883078973901006,\n",
    "   'isSplit': False},\n",
    "  'mapStyle': {'styleType': 'dark',\n",
    "   'topLayerGroups': {},\n",
    "   'visibleLayerGroups': {'label': True,\n",
    "    'road': True,\n",
    "    'border': False,\n",
    "    'building': True,\n",
    "    'water': True,\n",
    "    'land': True,\n",
    "    '3d building': False},\n",
    "   'threeDBuildingColor': [9.665468314072013,\n",
    "    17.18305478057247,\n",
    "    31.1442867897876],\n",
    "   'mapStyles': {}}}}\n",
    "\n",
    "map_2 = KeplerGl(data= {'data_time' : gdf1}, config=config2)\n",
    "map_2"
   ]
  },
  {
   "cell_type": "code",
   "execution_count": 32,
   "metadata": {},
   "outputs": [],
   "source": [
    "#map_2.config"
   ]
  },
  {
   "cell_type": "code",
   "execution_count": 28,
   "metadata": {},
   "outputs": [
    {
     "name": "stdout",
     "output_type": "stream",
     "text": [
      "Map saved to keplergl_time_map.html!\n"
     ]
    }
   ],
   "source": [
    "map_2.save_to_html(file_name='keplergl_time_map.html')"
   ]
  },
  {
   "cell_type": "markdown",
   "metadata": {},
   "source": [
    "## Features changed to create this map:"
   ]
  },
  {
   "cell_type": "markdown",
   "metadata": {},
   "source": [
    "1)   upload geopandas dataframe with time, lat, lon, concentration, and geometry variables\n",
    "<br> 2)   BASIC: choose hexbin plot\n",
    "<br> 3)   BASIC: set columns to lat and lon\n",
    "<br> 4)   COLOR: choose color palette and set \"color scale\" to quantize (because the data is not normally distributed)\n",
    "<br> 5)   COLOR: set \"color based on\" to concentration variable\n",
    "<br> 6) COLOR: set \"Aggregate Concentration by\" to maximum - we believe that coloring by the maximum values of the concentrations in one area is more beneficial than coloring by average concentration because showing the average could discount areas of very high and dangerous concentrations so showing maximum is more conservative for safety reasons\n",
    "<br> 7) COLOR: set \"opacity\" to 0.8\n",
    "<br> 8) RADIUS: set \"Hexagon Radium (Km)\" to 4, this radius makes sure that no areas of the lake are left with blank hexbins\n",
    "<br> 9) RADIUS: set \"Coverage: to 1\n",
    "<br> 10) HEIGHT: turn this feature ON and set \"Elevation Scale\" to 11\n",
    "<br> 11) HEIGHT: set \"Size Scale\" to Linear and \"Height Scale\" to 500\n",
    "<br> 12) HEIGHT: set \"Height Based on\" to the concentration variable and set \"Aggregate Concentration by\" to maximum\n",
    "<br> 13) LAYER BLENDING: Set \"Layer Blending\" to additive - this allows users to see changes on the map from timestamp to timestamp because differences in concentration value will be shown with additive layer blending - allowing users to see changes more distinctly with additive color outlines of each hexbin \n",
    "<br> 14) Within the next tab of features: \"Filters\" set the filter to be the time variable to create a dynamic timeline\n",
    "<br> 15) In the last tab of features: \"Base map\" set \"map style\" to dark and for \"map layers\" turn on label, road, border, building, water and land"
   ]
  },
  {
   "cell_type": "code",
   "execution_count": null,
   "metadata": {},
   "outputs": [],
   "source": []
  }
 ],
 "metadata": {
  "kernelspec": {
   "display_name": "Python 3",
   "language": "python",
   "name": "python3"
  },
  "language_info": {
   "codemirror_mode": {
    "name": "ipython",
    "version": 3
   },
   "file_extension": ".py",
   "mimetype": "text/x-python",
   "name": "python",
   "nbconvert_exporter": "python",
   "pygments_lexer": "ipython3",
   "version": "3.6.7"
  }
 },
 "nbformat": 4,
 "nbformat_minor": 2
}
